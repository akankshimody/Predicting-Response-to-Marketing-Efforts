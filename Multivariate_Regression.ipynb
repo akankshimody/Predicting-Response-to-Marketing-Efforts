{
  "nbformat": 4,
  "nbformat_minor": 0,
  "metadata": {
    "colab": {
      "name": "Multivariate Regression.ipynb",
      "provenance": [],
      "collapsed_sections": [],
      "toc_visible": true
    },
    "kernelspec": {
      "name": "python3",
      "display_name": "Python 3"
    }
  },
  "cells": [
    {
      "cell_type": "code",
      "metadata": {
        "id": "5lG0EBBwUCGm",
        "colab_type": "code",
        "outputId": "4127e2fb-b096-4940-c426-3424b7c7ebf9",
        "colab": {
          "base_uri": "https://localhost:8080/",
          "height": 51
        }
      },
      "source": [
        "import pandas as pd\n",
        "import numpy as np\n",
        "import matplotlib.pyplot as plt\n",
        "import seaborn as sns              \n",
        "%matplotlib inline\n",
        "sns.set()\n",
        "from subprocess import check_output\n",
        "import warnings                    \n",
        "warnings.filterwarnings('ignore')\n",
        "import statsmodels.api as sm"
      ],
      "execution_count": 1,
      "outputs": [
        {
          "output_type": "stream",
          "text": [
            "/usr/local/lib/python3.6/dist-packages/statsmodels/tools/_testing.py:19: FutureWarning: pandas.util.testing is deprecated. Use the functions in the public API at pandas.testing instead.\n",
            "  import pandas.util.testing as tm\n"
          ],
          "name": "stderr"
        }
      ]
    },
    {
      "cell_type": "code",
      "metadata": {
        "id": "0nIfdxrSr2NF",
        "colab_type": "code",
        "colab": {}
      },
      "source": [
        "retention = pd.read_csv(\"/content/WA_Fn-UseC_-Marketing-Customer-Value-Analysis.csv\")"
      ],
      "execution_count": 0,
      "outputs": []
    },
    {
      "cell_type": "code",
      "metadata": {
        "id": "c-ay9xr2sQZX",
        "colab_type": "code",
        "colab": {}
      },
      "source": [
        "def annot_plot(ax,w,h):                                    # function to add data to plot\n",
        "    ax.spines['top'].set_visible(False)\n",
        "    ax.spines['right'].set_visible(False)\n",
        "    for p in ax.patches:\n",
        "         ax.annotate(f\"{p.get_height() * 100 / df.shape[0]:.2f}%\", (p.get_x() + p.get_width() / 2., p.get_height()),\n",
        "         ha='center', va='center', fontsize=11, color='black', rotation=0, xytext=(0, 10),\n",
        "         textcoords='offset points')             \n",
        "def annot_plot_num(ax,w,h):                                    # function to add data to plot\n",
        "    ax.spines['top'].set_visible(False)\n",
        "    ax.spines['right'].set_visible(False)\n",
        "    for p in ax.patches:\n",
        "        ax.annotate('{0:.1f}'.format(p.get_height()), (p.get_x()+w, p.get_height()+h))"
      ],
      "execution_count": 0,
      "outputs": []
    },
    {
      "cell_type": "code",
      "metadata": {
        "id": "XRS3wCGOthzj",
        "colab_type": "code",
        "outputId": "6be9121b-ab3f-424c-fef8-225f42812c05",
        "colab": {
          "base_uri": "https://localhost:8080/",
          "height": 408
        }
      },
      "source": [
        "df=retention.copy()\n",
        "df['Response_bin'] = df['Response'].apply(lambda X : 0 if X == 'No' else 1)\n",
        "df.head()"
      ],
      "execution_count": 4,
      "outputs": [
        {
          "output_type": "execute_result",
          "data": {
            "text/html": [
              "<div>\n",
              "<style scoped>\n",
              "    .dataframe tbody tr th:only-of-type {\n",
              "        vertical-align: middle;\n",
              "    }\n",
              "\n",
              "    .dataframe tbody tr th {\n",
              "        vertical-align: top;\n",
              "    }\n",
              "\n",
              "    .dataframe thead th {\n",
              "        text-align: right;\n",
              "    }\n",
              "</style>\n",
              "<table border=\"1\" class=\"dataframe\">\n",
              "  <thead>\n",
              "    <tr style=\"text-align: right;\">\n",
              "      <th></th>\n",
              "      <th>Customer</th>\n",
              "      <th>State</th>\n",
              "      <th>Customer Lifetime Value</th>\n",
              "      <th>Response</th>\n",
              "      <th>Coverage</th>\n",
              "      <th>Education</th>\n",
              "      <th>Effective To Date</th>\n",
              "      <th>EmploymentStatus</th>\n",
              "      <th>Gender</th>\n",
              "      <th>Income</th>\n",
              "      <th>Location Code</th>\n",
              "      <th>Marital Status</th>\n",
              "      <th>Monthly Premium Auto</th>\n",
              "      <th>Months Since Last Claim</th>\n",
              "      <th>Months Since Policy Inception</th>\n",
              "      <th>Number of Open Complaints</th>\n",
              "      <th>Number of Policies</th>\n",
              "      <th>Policy Type</th>\n",
              "      <th>Policy</th>\n",
              "      <th>Renew Offer Type</th>\n",
              "      <th>Sales Channel</th>\n",
              "      <th>Total Claim Amount</th>\n",
              "      <th>Vehicle Class</th>\n",
              "      <th>Vehicle Size</th>\n",
              "      <th>Response_bin</th>\n",
              "    </tr>\n",
              "  </thead>\n",
              "  <tbody>\n",
              "    <tr>\n",
              "      <th>0</th>\n",
              "      <td>BU79786</td>\n",
              "      <td>Washington</td>\n",
              "      <td>2763.519279</td>\n",
              "      <td>No</td>\n",
              "      <td>Basic</td>\n",
              "      <td>Bachelor</td>\n",
              "      <td>2/24/11</td>\n",
              "      <td>Employed</td>\n",
              "      <td>F</td>\n",
              "      <td>56274</td>\n",
              "      <td>Suburban</td>\n",
              "      <td>Married</td>\n",
              "      <td>69</td>\n",
              "      <td>32</td>\n",
              "      <td>5</td>\n",
              "      <td>0</td>\n",
              "      <td>1</td>\n",
              "      <td>Corporate Auto</td>\n",
              "      <td>Corporate L3</td>\n",
              "      <td>Offer1</td>\n",
              "      <td>Agent</td>\n",
              "      <td>384.811147</td>\n",
              "      <td>Two-Door Car</td>\n",
              "      <td>Medsize</td>\n",
              "      <td>0</td>\n",
              "    </tr>\n",
              "    <tr>\n",
              "      <th>1</th>\n",
              "      <td>QZ44356</td>\n",
              "      <td>Arizona</td>\n",
              "      <td>6979.535903</td>\n",
              "      <td>No</td>\n",
              "      <td>Extended</td>\n",
              "      <td>Bachelor</td>\n",
              "      <td>1/31/11</td>\n",
              "      <td>Unemployed</td>\n",
              "      <td>F</td>\n",
              "      <td>0</td>\n",
              "      <td>Suburban</td>\n",
              "      <td>Single</td>\n",
              "      <td>94</td>\n",
              "      <td>13</td>\n",
              "      <td>42</td>\n",
              "      <td>0</td>\n",
              "      <td>8</td>\n",
              "      <td>Personal Auto</td>\n",
              "      <td>Personal L3</td>\n",
              "      <td>Offer3</td>\n",
              "      <td>Agent</td>\n",
              "      <td>1131.464935</td>\n",
              "      <td>Four-Door Car</td>\n",
              "      <td>Medsize</td>\n",
              "      <td>0</td>\n",
              "    </tr>\n",
              "    <tr>\n",
              "      <th>2</th>\n",
              "      <td>AI49188</td>\n",
              "      <td>Nevada</td>\n",
              "      <td>12887.431650</td>\n",
              "      <td>No</td>\n",
              "      <td>Premium</td>\n",
              "      <td>Bachelor</td>\n",
              "      <td>2/19/11</td>\n",
              "      <td>Employed</td>\n",
              "      <td>F</td>\n",
              "      <td>48767</td>\n",
              "      <td>Suburban</td>\n",
              "      <td>Married</td>\n",
              "      <td>108</td>\n",
              "      <td>18</td>\n",
              "      <td>38</td>\n",
              "      <td>0</td>\n",
              "      <td>2</td>\n",
              "      <td>Personal Auto</td>\n",
              "      <td>Personal L3</td>\n",
              "      <td>Offer1</td>\n",
              "      <td>Agent</td>\n",
              "      <td>566.472247</td>\n",
              "      <td>Two-Door Car</td>\n",
              "      <td>Medsize</td>\n",
              "      <td>0</td>\n",
              "    </tr>\n",
              "    <tr>\n",
              "      <th>3</th>\n",
              "      <td>WW63253</td>\n",
              "      <td>California</td>\n",
              "      <td>7645.861827</td>\n",
              "      <td>No</td>\n",
              "      <td>Basic</td>\n",
              "      <td>Bachelor</td>\n",
              "      <td>1/20/11</td>\n",
              "      <td>Unemployed</td>\n",
              "      <td>M</td>\n",
              "      <td>0</td>\n",
              "      <td>Suburban</td>\n",
              "      <td>Married</td>\n",
              "      <td>106</td>\n",
              "      <td>18</td>\n",
              "      <td>65</td>\n",
              "      <td>0</td>\n",
              "      <td>7</td>\n",
              "      <td>Corporate Auto</td>\n",
              "      <td>Corporate L2</td>\n",
              "      <td>Offer1</td>\n",
              "      <td>Call Center</td>\n",
              "      <td>529.881344</td>\n",
              "      <td>SUV</td>\n",
              "      <td>Medsize</td>\n",
              "      <td>0</td>\n",
              "    </tr>\n",
              "    <tr>\n",
              "      <th>4</th>\n",
              "      <td>HB64268</td>\n",
              "      <td>Washington</td>\n",
              "      <td>2813.692575</td>\n",
              "      <td>No</td>\n",
              "      <td>Basic</td>\n",
              "      <td>Bachelor</td>\n",
              "      <td>2/3/11</td>\n",
              "      <td>Employed</td>\n",
              "      <td>M</td>\n",
              "      <td>43836</td>\n",
              "      <td>Rural</td>\n",
              "      <td>Single</td>\n",
              "      <td>73</td>\n",
              "      <td>12</td>\n",
              "      <td>44</td>\n",
              "      <td>0</td>\n",
              "      <td>1</td>\n",
              "      <td>Personal Auto</td>\n",
              "      <td>Personal L1</td>\n",
              "      <td>Offer1</td>\n",
              "      <td>Agent</td>\n",
              "      <td>138.130879</td>\n",
              "      <td>Four-Door Car</td>\n",
              "      <td>Medsize</td>\n",
              "      <td>0</td>\n",
              "    </tr>\n",
              "  </tbody>\n",
              "</table>\n",
              "</div>"
            ],
            "text/plain": [
              "  Customer       State  ...  Vehicle Size Response_bin\n",
              "0  BU79786  Washington  ...       Medsize            0\n",
              "1  QZ44356     Arizona  ...       Medsize            0\n",
              "2  AI49188      Nevada  ...       Medsize            0\n",
              "3  WW63253  California  ...       Medsize            0\n",
              "4  HB64268  Washington  ...       Medsize            0\n",
              "\n",
              "[5 rows x 25 columns]"
            ]
          },
          "metadata": {
            "tags": []
          },
          "execution_count": 4
        }
      ]
    },
    {
      "cell_type": "markdown",
      "metadata": {
        "id": "durGL_3M52w6",
        "colab_type": "text"
      },
      "source": [
        "##**Regression Analysis with Continuous Variables Only**"
      ]
    },
    {
      "cell_type": "code",
      "metadata": {
        "id": "GucS10PKyEEn",
        "colab_type": "code",
        "outputId": "74aba2cf-4480-4a98-d976-eb55793e7d44",
        "colab": {
          "base_uri": "https://localhost:8080/",
          "height": 187
        }
      },
      "source": [
        "continous_var_df = df.select_dtypes(include=['int64','float'])\n",
        "continous_var_df.nunique()"
      ],
      "execution_count": 17,
      "outputs": [
        {
          "output_type": "execute_result",
          "data": {
            "text/plain": [
              "Customer Lifetime Value          8041\n",
              "Income                           5694\n",
              "Monthly Premium Auto              202\n",
              "Months Since Last Claim            36\n",
              "Months Since Policy Inception     100\n",
              "Number of Open Complaints           6\n",
              "Number of Policies                  9\n",
              "Total Claim Amount               5106\n",
              "Response_bin                        2\n",
              "dtype: int64"
            ]
          },
          "metadata": {
            "tags": []
          },
          "execution_count": 17
        }
      ]
    },
    {
      "cell_type": "code",
      "metadata": {
        "id": "XuMMYYrYyRt5",
        "colab_type": "code",
        "outputId": "691dfd55-da22-4f6a-eb4c-862e4b26cf0b",
        "colab": {
          "base_uri": "https://localhost:8080/",
          "height": 1000
        }
      },
      "source": [
        "#Logit\n",
        "continous_var_logit = sm.Logit(continous_var_df['Response_bin'], continous_var_df.drop('Response_bin', axis = 1))\n",
        "print(continous_var_logit.fit().summary())\n",
        "#Probit\n",
        "continous_var_probit = sm.Probit(continous_var_df['Response_bin'], continous_var_df.drop('Response_bin', axis = 1))\n",
        "print(continous_var_probit.fit().summary())\n",
        "#Cloglog\n",
        "continuous_var_cloglog = sm.GLM(continous_var_df['Response_bin'], continous_var_df.drop('Response_bin', axis = 1), family=sm.families.Binomial(sm.families.links.cloglog))\n",
        "print(continuous_var_cloglog.fit().summary())"
      ],
      "execution_count": 62,
      "outputs": [
        {
          "output_type": "stream",
          "text": [
            "Optimization terminated successfully.\n",
            "         Current function value: 0.421189\n",
            "         Iterations 6\n",
            "                           Logit Regression Results                           \n",
            "==============================================================================\n",
            "Dep. Variable:           Response_bin   No. Observations:                 9134\n",
            "Model:                          Logit   Df Residuals:                     9126\n",
            "Method:                           MLE   Df Model:                            7\n",
            "Date:                Sun, 17 May 2020   Pseudo R-squ.:                -0.02546\n",
            "Time:                        23:55:22   Log-Likelihood:                -3847.1\n",
            "converged:                       True   LL-Null:                       -3751.6\n",
            "Covariance Type:            nonrobust   LLR p-value:                     1.000\n",
            "=================================================================================================\n",
            "                                    coef    std err          z      P>|z|      [0.025      0.975]\n",
            "-------------------------------------------------------------------------------------------------\n",
            "Customer Lifetime Value       -6.741e-06   5.04e-06     -1.337      0.181   -1.66e-05    3.14e-06\n",
            "Income                        -2.857e-06   1.03e-06     -2.766      0.006   -4.88e-06   -8.33e-07\n",
            "Monthly Premium Auto             -0.0084      0.001     -6.889      0.000      -0.011      -0.006\n",
            "Months Since Last Claim          -0.0202      0.003     -7.238      0.000      -0.026      -0.015\n",
            "Months Since Policy Inception    -0.0060      0.001     -6.148      0.000      -0.008      -0.004\n",
            "Number of Open Complaints        -0.0829      0.034     -2.424      0.015      -0.150      -0.016\n",
            "Number of Policies               -0.0810      0.013     -6.356      0.000      -0.106      -0.056\n",
            "Total Claim Amount                0.0001      0.000      0.711      0.477      -0.000       0.000\n",
            "=================================================================================================\n",
            "Optimization terminated successfully.\n",
            "         Current function value: 0.423826\n",
            "         Iterations 5\n",
            "                          Probit Regression Results                           \n",
            "==============================================================================\n",
            "Dep. Variable:           Response_bin   No. Observations:                 9134\n",
            "Model:                         Probit   Df Residuals:                     9126\n",
            "Method:                           MLE   Df Model:                            7\n",
            "Date:                Sun, 17 May 2020   Pseudo R-squ.:                -0.03188\n",
            "Time:                        23:55:22   Log-Likelihood:                -3871.2\n",
            "converged:                       True   LL-Null:                       -3751.6\n",
            "Covariance Type:            nonrobust   LLR p-value:                     1.000\n",
            "=================================================================================================\n",
            "                                    coef    std err          z      P>|z|      [0.025      0.975]\n",
            "-------------------------------------------------------------------------------------------------\n",
            "Customer Lifetime Value       -4.755e-06   2.69e-06     -1.767      0.077      -1e-05    5.18e-07\n",
            "Income                        -1.993e-06   5.65e-07     -3.527      0.000    -3.1e-06   -8.86e-07\n",
            "Monthly Premium Auto             -0.0045      0.001     -7.027      0.000      -0.006      -0.003\n",
            "Months Since Last Claim          -0.0116      0.002     -7.682      0.000      -0.015      -0.009\n",
            "Months Since Policy Inception    -0.0037      0.001     -7.044      0.000      -0.005      -0.003\n",
            "Number of Open Complaints        -0.0442      0.018     -2.454      0.014      -0.079      -0.009\n",
            "Number of Policies               -0.0464      0.007     -7.004      0.000      -0.059      -0.033\n",
            "Total Claim Amount             3.738e-05   8.54e-05      0.438      0.662      -0.000       0.000\n",
            "=================================================================================================\n",
            "                 Generalized Linear Model Regression Results                  \n",
            "==============================================================================\n",
            "Dep. Variable:           Response_bin   No. Observations:                 9134\n",
            "Model:                            GLM   Df Residuals:                     9126\n",
            "Model Family:                Binomial   Df Model:                            7\n",
            "Link Function:                cloglog   Scale:                          1.0000\n",
            "Method:                          IRLS   Log-Likelihood:                -3875.6\n",
            "Date:                Sun, 17 May 2020   Deviance:                       7751.2\n",
            "Time:                        23:55:22   Pearson chi2:                 1.06e+04\n",
            "No. Iterations:                     6                                         \n",
            "Covariance Type:            nonrobust                                         \n",
            "=================================================================================================\n",
            "                                    coef    std err          z      P>|z|      [0.025      0.975]\n",
            "-------------------------------------------------------------------------------------------------\n",
            "Customer Lifetime Value       -5.235e-06   4.67e-06     -1.121      0.262   -1.44e-05    3.92e-06\n",
            "Income                        -3.045e-06   9.49e-07     -3.210      0.001    -4.9e-06   -1.19e-06\n",
            "Monthly Premium Auto             -0.0094      0.001     -8.209      0.000      -0.012      -0.007\n",
            "Months Since Last Claim          -0.0203      0.003     -7.853      0.000      -0.025      -0.015\n",
            "Months Since Policy Inception    -0.0060      0.001     -6.763      0.000      -0.008      -0.004\n",
            "Number of Open Complaints        -0.0840      0.032     -2.634      0.008      -0.147      -0.021\n",
            "Number of Policies               -0.0817      0.012     -6.807      0.000      -0.105      -0.058\n",
            "Total Claim Amount             8.457e-05      0.000      0.582      0.560      -0.000       0.000\n",
            "=================================================================================================\n"
          ],
          "name": "stdout"
        }
      ]
    },
    {
      "cell_type": "code",
      "metadata": {
        "id": "RWcLm4ADyXYS",
        "colab_type": "code",
        "outputId": "d29b4c5c-5842-4c43-a374-af3720f23acc",
        "colab": {
          "base_uri": "https://localhost:8080/",
          "height": 994
        }
      },
      "source": [
        "plt.figure(figsize=(10,6))\n",
        "sns.heatmap(continous_var_df.corr(), annot = True, cmap='Blues')\n",
        "plt.show()\n",
        "plt.figure(figsize=(12,6))\n",
        "sns.heatmap(cat_df.corr(), annot = True, cmap='Blues')\n",
        "plt.show()"
      ],
      "execution_count": 71,
      "outputs": [
        {
          "output_type": "display_data",
          "data": {
            "image/png": "[encoded data removed]",
            "text/plain": [
              "<Figure size 720x432 with 2 Axes>"
            ]
          },
          "metadata": {
            "tags": [],
            "needs_background": "light"
          }
        },
        {
          "output_type": "display_data",
          "data": {
            "image/png": "[encoded data removed]",
            "text/plain": [
              "<Figure size 864x432 with 2 Axes>"
            ]
          },
          "metadata": {
            "tags": [],
            "needs_background": "light"
          }
        }
      ]
    },
    {
      "cell_type": "markdown",
      "metadata": {
        "id": "ucOHgane56cH",
        "colab_type": "text"
      },
      "source": [
        "##**Regression Analysis with Categorical Variables**"
      ]
    },
    {
      "cell_type": "code",
      "metadata": {
        "id": "bkxL57tryd77",
        "colab_type": "code",
        "colab": {}
      },
      "source": [
        "categorical_df = df.select_dtypes(include='object')\n",
        "cat_df = categorical_df.drop(['Response','Customer','Effective To Date'], axis = 1)"
      ],
      "execution_count": 0,
      "outputs": []
    },
    {
      "cell_type": "code",
      "metadata": {
        "id": "OhdZ3U4Tyqn0",
        "colab_type": "code",
        "colab": {}
      },
      "source": [
        "cols = ['State', 'Coverage', 'Education', 'EmploymentStatus', 'Gender',\n",
        "       'Location Code', 'Marital Status', 'Policy Type', 'Policy',\n",
        "       'Renew Offer Type', 'Sales Channel', 'Vehicle Class', 'Vehicle Size']"
      ],
      "execution_count": 0,
      "outputs": []
    },
    {
      "cell_type": "code",
      "metadata": {
        "id": "npzbgYOjyttW",
        "colab_type": "code",
        "colab": {}
      },
      "source": [
        "from sklearn.preprocessing import LabelEncoder\n",
        "lb = LabelEncoder()\n",
        "for col in cat_df[cols]:\n",
        "    cat_df[col] = lb.fit_transform(cat_df[col])"
      ],
      "execution_count": 0,
      "outputs": []
    },
    {
      "cell_type": "code",
      "metadata": {
        "id": "KS92u5Q0yx4I",
        "colab_type": "code",
        "outputId": "93323a04-9e0e-4830-c3f8-9f4e7a6b2263",
        "colab": {
          "base_uri": "https://localhost:8080/",
          "height": 204
        }
      },
      "source": [
        "cat_df.head()"
      ],
      "execution_count": 23,
      "outputs": [
        {
          "output_type": "execute_result",
          "data": {
            "text/html": [
              "<div>\n",
              "<style scoped>\n",
              "    .dataframe tbody tr th:only-of-type {\n",
              "        vertical-align: middle;\n",
              "    }\n",
              "\n",
              "    .dataframe tbody tr th {\n",
              "        vertical-align: top;\n",
              "    }\n",
              "\n",
              "    .dataframe thead th {\n",
              "        text-align: right;\n",
              "    }\n",
              "</style>\n",
              "<table border=\"1\" class=\"dataframe\">\n",
              "  <thead>\n",
              "    <tr style=\"text-align: right;\">\n",
              "      <th></th>\n",
              "      <th>State</th>\n",
              "      <th>Coverage</th>\n",
              "      <th>Education</th>\n",
              "      <th>EmploymentStatus</th>\n",
              "      <th>Gender</th>\n",
              "      <th>Location Code</th>\n",
              "      <th>Marital Status</th>\n",
              "      <th>Policy Type</th>\n",
              "      <th>Policy</th>\n",
              "      <th>Renew Offer Type</th>\n",
              "      <th>Sales Channel</th>\n",
              "      <th>Vehicle Class</th>\n",
              "      <th>Vehicle Size</th>\n",
              "    </tr>\n",
              "  </thead>\n",
              "  <tbody>\n",
              "    <tr>\n",
              "      <th>0</th>\n",
              "      <td>4</td>\n",
              "      <td>0</td>\n",
              "      <td>0</td>\n",
              "      <td>1</td>\n",
              "      <td>0</td>\n",
              "      <td>1</td>\n",
              "      <td>1</td>\n",
              "      <td>0</td>\n",
              "      <td>2</td>\n",
              "      <td>0</td>\n",
              "      <td>0</td>\n",
              "      <td>5</td>\n",
              "      <td>1</td>\n",
              "    </tr>\n",
              "    <tr>\n",
              "      <th>1</th>\n",
              "      <td>0</td>\n",
              "      <td>1</td>\n",
              "      <td>0</td>\n",
              "      <td>4</td>\n",
              "      <td>0</td>\n",
              "      <td>1</td>\n",
              "      <td>2</td>\n",
              "      <td>1</td>\n",
              "      <td>5</td>\n",
              "      <td>2</td>\n",
              "      <td>0</td>\n",
              "      <td>0</td>\n",
              "      <td>1</td>\n",
              "    </tr>\n",
              "    <tr>\n",
              "      <th>2</th>\n",
              "      <td>2</td>\n",
              "      <td>2</td>\n",
              "      <td>0</td>\n",
              "      <td>1</td>\n",
              "      <td>0</td>\n",
              "      <td>1</td>\n",
              "      <td>1</td>\n",
              "      <td>1</td>\n",
              "      <td>5</td>\n",
              "      <td>0</td>\n",
              "      <td>0</td>\n",
              "      <td>5</td>\n",
              "      <td>1</td>\n",
              "    </tr>\n",
              "    <tr>\n",
              "      <th>3</th>\n",
              "      <td>1</td>\n",
              "      <td>0</td>\n",
              "      <td>0</td>\n",
              "      <td>4</td>\n",
              "      <td>1</td>\n",
              "      <td>1</td>\n",
              "      <td>1</td>\n",
              "      <td>0</td>\n",
              "      <td>1</td>\n",
              "      <td>0</td>\n",
              "      <td>2</td>\n",
              "      <td>3</td>\n",
              "      <td>1</td>\n",
              "    </tr>\n",
              "    <tr>\n",
              "      <th>4</th>\n",
              "      <td>4</td>\n",
              "      <td>0</td>\n",
              "      <td>0</td>\n",
              "      <td>1</td>\n",
              "      <td>1</td>\n",
              "      <td>0</td>\n",
              "      <td>2</td>\n",
              "      <td>1</td>\n",
              "      <td>3</td>\n",
              "      <td>0</td>\n",
              "      <td>0</td>\n",
              "      <td>0</td>\n",
              "      <td>1</td>\n",
              "    </tr>\n",
              "  </tbody>\n",
              "</table>\n",
              "</div>"
            ],
            "text/plain": [
              "   State  Coverage  Education  ...  Sales Channel  Vehicle Class  Vehicle Size\n",
              "0      4         0          0  ...              0              5             1\n",
              "1      0         1          0  ...              0              0             1\n",
              "2      2         2          0  ...              0              5             1\n",
              "3      1         0          0  ...              2              3             1\n",
              "4      4         0          0  ...              0              0             1\n",
              "\n",
              "[5 rows x 13 columns]"
            ]
          },
          "metadata": {
            "tags": []
          },
          "execution_count": 23
        }
      ]
    },
    {
      "cell_type": "code",
      "metadata": {
        "id": "BrQlHpKoyzay",
        "colab_type": "code",
        "outputId": "f6aadf99-e4be-4499-e696-3a5328ac82a5",
        "colab": {
          "base_uri": "https://localhost:8080/",
          "height": 1000
        }
      },
      "source": [
        "categorical_train.logit = sm.Logit(continous_var_df['Response_bin'], cat_df)\n",
        "print(categorical_train.logit.fit().summary())\n",
        "categorical_train.probit = sm.Probit(continous_var_df['Response_bin'], cat_df)\n",
        "print(categorical_train.probit.fit().summary())\n",
        "categorical_train.cloglog = sm.GLM(continous_var_df['Response_bin'], cat_df, family=sm.families.Binomial(sm.families.links.cloglog))\n",
        "print(categorical_train.cloglog.fit().summary())"
      ],
      "execution_count": 65,
      "outputs": [
        {
          "output_type": "stream",
          "text": [
            "Optimization terminated successfully.\n",
            "         Current function value: 0.387557\n",
            "         Iterations 7\n",
            "                           Logit Regression Results                           \n",
            "==============================================================================\n",
            "Dep. Variable:           Response_bin   No. Observations:                 9134\n",
            "Model:                          Logit   Df Residuals:                     9121\n",
            "Method:                           MLE   Df Model:                           12\n",
            "Date:                Mon, 18 May 2020   Pseudo R-squ.:                 0.05642\n",
            "Time:                        00:01:46   Log-Likelihood:                -3539.9\n",
            "converged:                       True   LL-Null:                       -3751.6\n",
            "Covariance Type:            nonrobust   LLR p-value:                 4.224e-83\n",
            "====================================================================================\n",
            "                       coef    std err          z      P>|z|      [0.025      0.975]\n",
            "------------------------------------------------------------------------------------\n",
            "State               -0.0256      0.023     -1.122      0.262      -0.070       0.019\n",
            "Coverage            -0.0639      0.046     -1.390      0.164      -0.154       0.026\n",
            "Education            0.0088      0.022      0.409      0.683      -0.033       0.051\n",
            "EmploymentStatus    -0.0459      0.024     -1.951      0.051      -0.092       0.000\n",
            "Gender               0.0466      0.060      0.774      0.439      -0.071       0.165\n",
            "Location Code       -0.0477      0.047     -1.014      0.311      -0.140       0.045\n",
            "Marital Status      -0.4643      0.047     -9.816      0.000      -0.557      -0.372\n",
            "Policy Type          0.1736      0.132      1.311      0.190      -0.086       0.433\n",
            "Policy              -0.0751      0.037     -2.033      0.042      -0.147      -0.003\n",
            "Renew Offer Type    -0.5681      0.037    -15.226      0.000      -0.641      -0.495\n",
            "Sales Channel       -0.2150      0.030     -7.148      0.000      -0.274      -0.156\n",
            "Vehicle Class        0.0201      0.015      1.381      0.167      -0.008       0.049\n",
            "Vehicle Size        -0.3355      0.052     -6.398      0.000      -0.438      -0.233\n",
            "====================================================================================\n",
            "Optimization terminated successfully.\n",
            "         Current function value: 0.386952\n",
            "         Iterations 6\n",
            "                          Probit Regression Results                           \n",
            "==============================================================================\n",
            "Dep. Variable:           Response_bin   No. Observations:                 9134\n",
            "Model:                         Probit   Df Residuals:                     9121\n",
            "Method:                           MLE   Df Model:                           12\n",
            "Date:                Mon, 18 May 2020   Pseudo R-squ.:                 0.05790\n",
            "Time:                        00:01:46   Log-Likelihood:                -3534.4\n",
            "converged:                       True   LL-Null:                       -3751.6\n",
            "Covariance Type:            nonrobust   LLR p-value:                 1.915e-85\n",
            "====================================================================================\n",
            "                       coef    std err          z      P>|z|      [0.025      0.975]\n",
            "------------------------------------------------------------------------------------\n",
            "State               -0.0154      0.013     -1.221      0.222      -0.040       0.009\n",
            "Coverage            -0.0427      0.025     -1.692      0.091      -0.092       0.007\n",
            "Education            0.0048      0.012      0.406      0.685      -0.018       0.028\n",
            "EmploymentStatus    -0.0378      0.013     -2.920      0.003      -0.063      -0.012\n",
            "Gender               0.0269      0.033      0.811      0.418      -0.038       0.092\n",
            "Location Code       -0.0364      0.027     -1.370      0.171      -0.088       0.016\n",
            "Marital Status      -0.2530      0.026     -9.813      0.000      -0.304      -0.203\n",
            "Policy Type          0.1004      0.073      1.382      0.167      -0.042       0.243\n",
            "Policy              -0.0459      0.020     -2.254      0.024      -0.086      -0.006\n",
            "Renew Offer Type    -0.3329      0.020    -16.325      0.000      -0.373      -0.293\n",
            "Sales Channel       -0.1136      0.016     -7.137      0.000      -0.145      -0.082\n",
            "Vehicle Class        0.0092      0.008      1.154      0.248      -0.006       0.025\n",
            "Vehicle Size        -0.1875      0.029     -6.508      0.000      -0.244      -0.131\n",
            "====================================================================================\n",
            "                 Generalized Linear Model Regression Results                  \n",
            "==============================================================================\n",
            "Dep. Variable:           Response_bin   No. Observations:                 9134\n",
            "Model:                            GLM   Df Residuals:                     9121\n",
            "Model Family:                Binomial   Df Model:                           12\n",
            "Link Function:                cloglog   Scale:                          1.0000\n",
            "Method:                          IRLS   Log-Likelihood:                -3551.6\n",
            "Date:                Mon, 18 May 2020   Deviance:                       7103.2\n",
            "Time:                        00:01:46   Pearson chi2:                 8.89e+03\n",
            "No. Iterations:                     7                                         \n",
            "Covariance Type:            nonrobust                                         \n",
            "====================================================================================\n",
            "                       coef    std err          z      P>|z|      [0.025      0.975]\n",
            "------------------------------------------------------------------------------------\n",
            "State               -0.0369      0.021     -1.796      0.073      -0.077       0.003\n",
            "Coverage            -0.0700      0.042     -1.685      0.092      -0.151       0.011\n",
            "Education           -0.0042      0.019     -0.219      0.827      -0.042       0.034\n",
            "EmploymentStatus    -0.0422      0.021     -1.991      0.047      -0.084      -0.001\n",
            "Gender               0.0182      0.054      0.337      0.736      -0.088       0.124\n",
            "Location Code       -0.0720      0.042     -1.709      0.087      -0.154       0.011\n",
            "Marital Status      -0.4456      0.042    -10.566      0.000      -0.528      -0.363\n",
            "Policy Type          0.2007      0.118      1.697      0.090      -0.031       0.433\n",
            "Policy              -0.0958      0.033     -2.906      0.004      -0.160      -0.031\n",
            "Renew Offer Type    -0.5152      0.035    -14.894      0.000      -0.583      -0.447\n",
            "Sales Channel       -0.2108      0.028     -7.617      0.000      -0.265      -0.157\n",
            "Vehicle Class        0.0119      0.013      0.913      0.361      -0.014       0.038\n",
            "Vehicle Size        -0.3494      0.047     -7.407      0.000      -0.442      -0.257\n",
            "====================================================================================\n"
          ],
          "name": "stdout"
        }
      ]
    },
    {
      "cell_type": "markdown",
      "metadata": {
        "id": "AKwSdNzO6D9L",
        "colab_type": "text"
      },
      "source": [
        "##**Regression Analysis with both Continous and Categorical Variables**"
      ]
    },
    {
      "cell_type": "code",
      "metadata": {
        "id": "wHd7wsaNy30K",
        "colab_type": "code",
        "colab": {}
      },
      "source": [
        "continous_var_df.reset_index(drop = True, inplace=True)\n",
        "cat_df.reset_index(drop = True, inplace=True)"
      ],
      "execution_count": 0,
      "outputs": []
    },
    {
      "cell_type": "code",
      "metadata": {
        "id": "T-TycRlEzfAR",
        "colab_type": "code",
        "outputId": "09b9fa35-929b-451e-f052-39985a487a30",
        "colab": {
          "base_uri": "https://localhost:8080/",
          "height": 238
        }
      },
      "source": [
        "all_data_df = pd.concat([continous_var_df,cat_df], axis = 1)\n",
        "all_data_df.head()"
      ],
      "execution_count": 26,
      "outputs": [
        {
          "output_type": "execute_result",
          "data": {
            "text/html": [
              "<div>\n",
              "<style scoped>\n",
              "    .dataframe tbody tr th:only-of-type {\n",
              "        vertical-align: middle;\n",
              "    }\n",
              "\n",
              "    .dataframe tbody tr th {\n",
              "        vertical-align: top;\n",
              "    }\n",
              "\n",
              "    .dataframe thead th {\n",
              "        text-align: right;\n",
              "    }\n",
              "</style>\n",
              "<table border=\"1\" class=\"dataframe\">\n",
              "  <thead>\n",
              "    <tr style=\"text-align: right;\">\n",
              "      <th></th>\n",
              "      <th>Customer Lifetime Value</th>\n",
              "      <th>Income</th>\n",
              "      <th>Monthly Premium Auto</th>\n",
              "      <th>Months Since Last Claim</th>\n",
              "      <th>Months Since Policy Inception</th>\n",
              "      <th>Number of Open Complaints</th>\n",
              "      <th>Number of Policies</th>\n",
              "      <th>Total Claim Amount</th>\n",
              "      <th>Response_bin</th>\n",
              "      <th>State</th>\n",
              "      <th>Coverage</th>\n",
              "      <th>Education</th>\n",
              "      <th>EmploymentStatus</th>\n",
              "      <th>Gender</th>\n",
              "      <th>Location Code</th>\n",
              "      <th>Marital Status</th>\n",
              "      <th>Policy Type</th>\n",
              "      <th>Policy</th>\n",
              "      <th>Renew Offer Type</th>\n",
              "      <th>Sales Channel</th>\n",
              "      <th>Vehicle Class</th>\n",
              "      <th>Vehicle Size</th>\n",
              "    </tr>\n",
              "  </thead>\n",
              "  <tbody>\n",
              "    <tr>\n",
              "      <th>0</th>\n",
              "      <td>2763.519279</td>\n",
              "      <td>56274</td>\n",
              "      <td>69</td>\n",
              "      <td>32</td>\n",
              "      <td>5</td>\n",
              "      <td>0</td>\n",
              "      <td>1</td>\n",
              "      <td>384.811147</td>\n",
              "      <td>0</td>\n",
              "      <td>4</td>\n",
              "      <td>0</td>\n",
              "      <td>0</td>\n",
              "      <td>1</td>\n",
              "      <td>0</td>\n",
              "      <td>1</td>\n",
              "      <td>1</td>\n",
              "      <td>0</td>\n",
              "      <td>2</td>\n",
              "      <td>0</td>\n",
              "      <td>0</td>\n",
              "      <td>5</td>\n",
              "      <td>1</td>\n",
              "    </tr>\n",
              "    <tr>\n",
              "      <th>1</th>\n",
              "      <td>6979.535903</td>\n",
              "      <td>0</td>\n",
              "      <td>94</td>\n",
              "      <td>13</td>\n",
              "      <td>42</td>\n",
              "      <td>0</td>\n",
              "      <td>8</td>\n",
              "      <td>1131.464935</td>\n",
              "      <td>0</td>\n",
              "      <td>0</td>\n",
              "      <td>1</td>\n",
              "      <td>0</td>\n",
              "      <td>4</td>\n",
              "      <td>0</td>\n",
              "      <td>1</td>\n",
              "      <td>2</td>\n",
              "      <td>1</td>\n",
              "      <td>5</td>\n",
              "      <td>2</td>\n",
              "      <td>0</td>\n",
              "      <td>0</td>\n",
              "      <td>1</td>\n",
              "    </tr>\n",
              "    <tr>\n",
              "      <th>2</th>\n",
              "      <td>12887.431650</td>\n",
              "      <td>48767</td>\n",
              "      <td>108</td>\n",
              "      <td>18</td>\n",
              "      <td>38</td>\n",
              "      <td>0</td>\n",
              "      <td>2</td>\n",
              "      <td>566.472247</td>\n",
              "      <td>0</td>\n",
              "      <td>2</td>\n",
              "      <td>2</td>\n",
              "      <td>0</td>\n",
              "      <td>1</td>\n",
              "      <td>0</td>\n",
              "      <td>1</td>\n",
              "      <td>1</td>\n",
              "      <td>1</td>\n",
              "      <td>5</td>\n",
              "      <td>0</td>\n",
              "      <td>0</td>\n",
              "      <td>5</td>\n",
              "      <td>1</td>\n",
              "    </tr>\n",
              "    <tr>\n",
              "      <th>3</th>\n",
              "      <td>7645.861827</td>\n",
              "      <td>0</td>\n",
              "      <td>106</td>\n",
              "      <td>18</td>\n",
              "      <td>65</td>\n",
              "      <td>0</td>\n",
              "      <td>7</td>\n",
              "      <td>529.881344</td>\n",
              "      <td>0</td>\n",
              "      <td>1</td>\n",
              "      <td>0</td>\n",
              "      <td>0</td>\n",
              "      <td>4</td>\n",
              "      <td>1</td>\n",
              "      <td>1</td>\n",
              "      <td>1</td>\n",
              "      <td>0</td>\n",
              "      <td>1</td>\n",
              "      <td>0</td>\n",
              "      <td>2</td>\n",
              "      <td>3</td>\n",
              "      <td>1</td>\n",
              "    </tr>\n",
              "    <tr>\n",
              "      <th>4</th>\n",
              "      <td>2813.692575</td>\n",
              "      <td>43836</td>\n",
              "      <td>73</td>\n",
              "      <td>12</td>\n",
              "      <td>44</td>\n",
              "      <td>0</td>\n",
              "      <td>1</td>\n",
              "      <td>138.130879</td>\n",
              "      <td>0</td>\n",
              "      <td>4</td>\n",
              "      <td>0</td>\n",
              "      <td>0</td>\n",
              "      <td>1</td>\n",
              "      <td>1</td>\n",
              "      <td>0</td>\n",
              "      <td>2</td>\n",
              "      <td>1</td>\n",
              "      <td>3</td>\n",
              "      <td>0</td>\n",
              "      <td>0</td>\n",
              "      <td>0</td>\n",
              "      <td>1</td>\n",
              "    </tr>\n",
              "  </tbody>\n",
              "</table>\n",
              "</div>"
            ],
            "text/plain": [
              "   Customer Lifetime Value  Income  ...  Vehicle Class  Vehicle Size\n",
              "0              2763.519279   56274  ...              5             1\n",
              "1              6979.535903       0  ...              0             1\n",
              "2             12887.431650   48767  ...              5             1\n",
              "3              7645.861827       0  ...              3             1\n",
              "4              2813.692575   43836  ...              0             1\n",
              "\n",
              "[5 rows x 22 columns]"
            ]
          },
          "metadata": {
            "tags": []
          },
          "execution_count": 26
        }
      ]
    },
    {
      "cell_type": "code",
      "metadata": {
        "id": "1PjCgpVvziPM",
        "colab_type": "code",
        "outputId": "f0746b66-2455-4f9d-d9bc-90e36b432911",
        "colab": {
          "base_uri": "https://localhost:8080/",
          "height": 1000
        }
      },
      "source": [
        "total_train.logit = sm.Logit(all_data_df['Response_bin'], all_data_df.drop(['Response_bin'], axis = 1))\n",
        "print(total_train.logit.fit().summary())\n",
        "total_train.probit = sm.Probit(all_data_df['Response_bin'], all_data_df.drop(['Response_bin'], axis = 1))\n",
        "print(total_train.probit.fit().summary())\n",
        "total_train.cloglog = sm.GLM(all_data_df['Response_bin'], all_data_df.drop(['Response_bin'], axis = 1), family=sm.families.Binomial(sm.families.links.cloglog))\n",
        "print(total_train.cloglog.fit().summary())"
      ],
      "execution_count": 66,
      "outputs": [
        {
          "output_type": "stream",
          "text": [
            "Optimization terminated successfully.\n",
            "         Current function value: 0.384709\n",
            "         Iterations 7\n",
            "                           Logit Regression Results                           \n",
            "==============================================================================\n",
            "Dep. Variable:           Response_bin   No. Observations:                 9134\n",
            "Model:                          Logit   Df Residuals:                     9113\n",
            "Method:                           MLE   Df Model:                           20\n",
            "Date:                Mon, 18 May 2020   Pseudo R-squ.:                 0.06336\n",
            "Time:                        00:04:36   Log-Likelihood:                -3513.9\n",
            "converged:                       True   LL-Null:                       -3751.6\n",
            "Covariance Type:            nonrobust   LLR p-value:                 4.066e-88\n",
            "=================================================================================================\n",
            "                                    coef    std err          z      P>|z|      [0.025      0.975]\n",
            "-------------------------------------------------------------------------------------------------\n",
            "Customer_Lifetime_Value       -1.183e-05   5.11e-06     -2.317      0.021   -2.18e-05   -1.82e-06\n",
            "Income                         3.347e-06   1.39e-06      2.411      0.016    6.26e-07    6.07e-06\n",
            "Monthly_Premium_Auto             -0.0033      0.001     -2.471      0.013      -0.006      -0.001\n",
            "Months_Since_Last_Claim          -0.0053      0.003     -1.780      0.075      -0.011       0.001\n",
            "Months_Since_Policy_Inception    -0.0019      0.001     -1.830      0.067      -0.004       0.000\n",
            "Number_of_Open_Complaints        -0.0569      0.035     -1.622      0.105      -0.126       0.012\n",
            "Number_of_Policies               -0.0392      0.013     -3.013      0.003      -0.065      -0.014\n",
            "Total_Claim_Amount                0.0007      0.000      4.448      0.000       0.000       0.001\n",
            "State                            -0.0084      0.023     -0.357      0.721      -0.054       0.038\n",
            "Coverage                         -0.0325      0.053     -0.615      0.538      -0.136       0.071\n",
            "Education                         0.0235      0.022      1.068      0.285      -0.020       0.067\n",
            "EmploymentStatus                 -0.0232      0.030     -0.763      0.445      -0.083       0.036\n",
            "Gender                            0.0584      0.061      0.950      0.342      -0.062       0.179\n",
            "Location_Code                    -0.0894      0.053     -1.696      0.090      -0.193       0.014\n",
            "Marital_Status                   -0.4645      0.048     -9.585      0.000      -0.559      -0.370\n",
            "Policy_Type                       0.1085      0.135      0.806      0.420      -0.155       0.372\n",
            "Policy                           -0.0335      0.039     -0.864      0.388      -0.110       0.043\n",
            "Renew_Offer_Type                 -0.5828      0.039    -15.136      0.000      -0.658      -0.507\n",
            "Sales_Channel                    -0.1937      0.030     -6.354      0.000      -0.253      -0.134\n",
            "Vehicle_Class                     0.0287      0.015      1.897      0.058      -0.001       0.058\n",
            "Vehicle_Size                     -0.2837      0.055     -5.161      0.000      -0.391      -0.176\n",
            "=================================================================================================\n",
            "Optimization terminated successfully.\n",
            "         Current function value: 0.383660\n",
            "         Iterations 6\n",
            "                          Probit Regression Results                           \n",
            "==============================================================================\n",
            "Dep. Variable:           Response_bin   No. Observations:                 9134\n",
            "Model:                         Probit   Df Residuals:                     9113\n",
            "Method:                           MLE   Df Model:                           20\n",
            "Date:                Mon, 18 May 2020   Pseudo R-squ.:                 0.06591\n",
            "Time:                        00:04:37   Log-Likelihood:                -3504.4\n",
            "converged:                       True   LL-Null:                       -3751.6\n",
            "Covariance Type:            nonrobust   LLR p-value:                 4.010e-92\n",
            "=================================================================================================\n",
            "                                    coef    std err          z      P>|z|      [0.025      0.975]\n",
            "-------------------------------------------------------------------------------------------------\n",
            "Customer_Lifetime_Value       -7.005e-06   2.77e-06     -2.528      0.011   -1.24e-05   -1.57e-06\n",
            "Income                          1.91e-06   7.71e-07      2.479      0.013       4e-07    3.42e-06\n",
            "Monthly_Premium_Auto             -0.0021      0.001     -2.901      0.004      -0.004      -0.001\n",
            "Months_Since_Last_Claim          -0.0028      0.002     -1.701      0.089      -0.006       0.000\n",
            "Months_Since_Policy_Inception    -0.0013      0.001     -2.267      0.023      -0.002      -0.000\n",
            "Number_of_Open_Complaints        -0.0325      0.019     -1.717      0.086      -0.070       0.005\n",
            "Number_of_Policies               -0.0216      0.007     -3.078      0.002      -0.035      -0.008\n",
            "Total_Claim_Amount                0.0004   9.28e-05      4.650      0.000       0.000       0.001\n",
            "State                            -0.0052      0.013     -0.403      0.687      -0.030       0.020\n",
            "Coverage                         -0.0206      0.029     -0.703      0.482      -0.078       0.037\n",
            "Education                         0.0141      0.012      1.162      0.245      -0.010       0.038\n",
            "EmploymentStatus                 -0.0228      0.017     -1.368      0.171      -0.056       0.010\n",
            "Gender                            0.0330      0.034      0.975      0.330      -0.033       0.099\n",
            "Location_Code                    -0.0575      0.030     -1.949      0.051      -0.115       0.000\n",
            "Marital_Status                   -0.2524      0.026     -9.559      0.000      -0.304      -0.201\n",
            "Policy_Type                       0.0553      0.074      0.750      0.453      -0.089       0.200\n",
            "Policy                           -0.0190      0.021     -0.892      0.372      -0.061       0.023\n",
            "Renew_Offer_Type                 -0.3419      0.021    -16.167      0.000      -0.383      -0.300\n",
            "Sales_Channel                    -0.1004      0.016     -6.227      0.000      -0.132      -0.069\n",
            "Vehicle_Class                     0.0158      0.008      1.908      0.056      -0.000       0.032\n",
            "Vehicle_Size                     -0.1585      0.030     -5.233      0.000      -0.218      -0.099\n",
            "=================================================================================================\n",
            "                 Generalized Linear Model Regression Results                  \n",
            "==============================================================================\n",
            "Dep. Variable:           Response_bin   No. Observations:                 9134\n",
            "Model:                            GLM   Df Residuals:                     9113\n",
            "Model Family:                Binomial   Df Model:                           20\n",
            "Link Function:                cloglog   Scale:                          1.0000\n",
            "Method:                          IRLS   Log-Likelihood:                -3519.5\n",
            "Date:                Mon, 18 May 2020   Deviance:                       7038.9\n",
            "Time:                        00:04:37   Pearson chi2:                 8.66e+03\n",
            "No. Iterations:                     7                                         \n",
            "Covariance Type:            nonrobust                                         \n",
            "=================================================================================================\n",
            "                                    coef    std err          z      P>|z|      [0.025      0.975]\n",
            "-------------------------------------------------------------------------------------------------\n",
            "Customer_Lifetime_Value       -1.042e-05   4.66e-06     -2.234      0.025   -1.96e-05   -1.28e-06\n",
            "Income                         2.019e-06   1.25e-06      1.617      0.106   -4.29e-07    4.47e-06\n",
            "Monthly_Premium_Auto             -0.0035      0.001     -2.877      0.004      -0.006      -0.001\n",
            "Months_Since_Last_Claim          -0.0061      0.003     -2.236      0.025      -0.011      -0.001\n",
            "Months_Since_Policy_Inception    -0.0019      0.001     -1.947      0.051      -0.004     1.2e-05\n",
            "Number_of_Open_Complaints        -0.0537      0.032     -1.674      0.094      -0.117       0.009\n",
            "Number_of_Policies               -0.0395      0.012     -3.315      0.001      -0.063      -0.016\n",
            "Total_Claim_Amount                0.0007      0.000      4.513      0.000       0.000       0.001\n",
            "State                            -0.0135      0.021     -0.640      0.522      -0.055       0.028\n",
            "Coverage                         -0.0215      0.048     -0.449      0.653      -0.115       0.072\n",
            "Education                         0.0139      0.020      0.700      0.484      -0.025       0.053\n",
            "EmploymentStatus                 -0.0334      0.027     -1.230      0.219      -0.087       0.020\n",
            "Gender                            0.0418      0.055      0.754      0.451      -0.067       0.151\n",
            "Location_Code                    -0.0988      0.048     -2.060      0.039      -0.193      -0.005\n",
            "Marital_Status                   -0.4352      0.043    -10.082      0.000      -0.520      -0.351\n",
            "Policy_Type                       0.1197      0.121      0.989      0.323      -0.117       0.357\n",
            "Policy                           -0.0437      0.035     -1.253      0.210      -0.112       0.025\n",
            "Renew_Offer_Type                 -0.5225      0.036    -14.696      0.000      -0.592      -0.453\n",
            "Sales_Channel                    -0.1860      0.028     -6.636      0.000      -0.241      -0.131\n",
            "Vehicle_Class                     0.0238      0.014      1.746      0.081      -0.003       0.050\n",
            "Vehicle_Size                     -0.2765      0.049     -5.589      0.000      -0.373      -0.180\n",
            "=================================================================================================\n"
          ],
          "name": "stdout"
        }
      ]
    },
    {
      "cell_type": "markdown",
      "metadata": {
        "id": "AGkPrkld6QwW",
        "colab_type": "text"
      },
      "source": [
        "##**Regression Analysis with excluding Non-significant variables**"
      ]
    },
    {
      "cell_type": "code",
      "metadata": {
        "id": "mq6Jy8hNzozC",
        "colab_type": "code",
        "outputId": "93d2a321-d23e-4216-9a56-5ecb718c962c",
        "colab": {
          "base_uri": "https://localhost:8080/",
          "height": 136
        }
      },
      "source": [
        "all_data_df.columns"
      ],
      "execution_count": 108,
      "outputs": [
        {
          "output_type": "execute_result",
          "data": {
            "text/plain": [
              "Index(['Customer_Lifetime_Value', 'Income', 'Monthly_Premium_Auto',\n",
              "       'Months_Since_Last_Claim', 'Months_Since_Policy_Inception',\n",
              "       'Number_of_Open_Complaints', 'Number_of_Policies', 'Total_Claim_Amount',\n",
              "       'Response_bin', 'State', 'Coverage', 'Education', 'EmploymentStatus',\n",
              "       'Gender', 'Location_Code', 'Marital_Status', 'Policy_Type', 'Policy',\n",
              "       'Renew_Offer_Type', 'Sales_Channel', 'Vehicle_Class', 'Vehicle_Size'],\n",
              "      dtype='object')"
            ]
          },
          "metadata": {
            "tags": []
          },
          "execution_count": 108
        }
      ]
    },
    {
      "cell_type": "code",
      "metadata": {
        "id": "mXyCOs8wzxMl",
        "colab_type": "code",
        "outputId": "0023fa03-5a52-41d3-f67f-4bb4282c1767",
        "colab": {
          "base_uri": "https://localhost:8080/",
          "height": 1000
        }
      },
      "source": [
        "significant_cols = ['Customer_Lifetime_Value','Income','Monthly_Premium_Auto',\n",
        "                    'Number_of_Policies','Total_Claim_Amount','Marital_Status',\n",
        "                    'Renew_Offer_Type','Sales_Channel','Vehicle_Size']\n",
        "trainData.logit = sm.Logit(all_data_df['Response_bin'], all_data_df[significant_cols])\n",
        "print(trainData.logit.fit().summary())\n",
        "trainData.probit = sm.Probit(all_data_df['Response_bin'], all_data_df[significant_cols])\n",
        "print(trainData.probit.fit().summary())\n",
        "trainData.cloglog = sm.GLM(all_data_df['Response_bin'], all_data_df[significant_cols], family=sm.families.Binomial(sm.families.links.cloglog))\n",
        "print(trainData.cloglog.fit().summary())"
      ],
      "execution_count": 85,
      "outputs": [
        {
          "output_type": "stream",
          "text": [
            "Optimization terminated successfully.\n",
            "         Current function value: 0.386045\n",
            "         Iterations 7\n",
            "                           Logit Regression Results                           \n",
            "==============================================================================\n",
            "Dep. Variable:           Response_bin   No. Observations:                 9134\n",
            "Model:                          Logit   Df Residuals:                     9125\n",
            "Method:                           MLE   Df Model:                            8\n",
            "Date:                Mon, 18 May 2020   Pseudo R-squ.:                 0.06010\n",
            "Time:                        03:37:40   Log-Likelihood:                -3526.1\n",
            "converged:                       True   LL-Null:                       -3751.6\n",
            "Covariance Type:            nonrobust   LLR p-value:                 2.279e-92\n",
            "===========================================================================================\n",
            "                              coef    std err          z      P>|z|      [0.025      0.975]\n",
            "-------------------------------------------------------------------------------------------\n",
            "Customer_Lifetime_Value -1.152e-05    5.1e-06     -2.258      0.024   -2.15e-05   -1.52e-06\n",
            "Income                   3.119e-06    1.1e-06      2.826      0.005    9.56e-07    5.28e-06\n",
            "Monthly_Premium_Auto       -0.0043      0.001     -3.730      0.000      -0.007      -0.002\n",
            "Number_of_Policies         -0.0467      0.013     -3.652      0.000      -0.072      -0.022\n",
            "Total_Claim_Amount          0.0007      0.000      4.287      0.000       0.000       0.001\n",
            "Marital_Status             -0.5060      0.044    -11.459      0.000      -0.593      -0.419\n",
            "Renew_Offer_Type           -0.5815      0.038    -15.353      0.000      -0.656      -0.507\n",
            "Sales_Channel              -0.2077      0.030     -6.882      0.000      -0.267      -0.149\n",
            "Vehicle_Size               -0.3397      0.052     -6.526      0.000      -0.442      -0.238\n",
            "===========================================================================================\n",
            "Optimization terminated successfully.\n",
            "         Current function value: 0.385449\n",
            "         Iterations 6\n",
            "                          Probit Regression Results                           \n",
            "==============================================================================\n",
            "Dep. Variable:           Response_bin   No. Observations:                 9134\n",
            "Model:                         Probit   Df Residuals:                     9125\n",
            "Method:                           MLE   Df Model:                            8\n",
            "Date:                Mon, 18 May 2020   Pseudo R-squ.:                 0.06156\n",
            "Time:                        03:37:40   Log-Likelihood:                -3520.7\n",
            "converged:                       True   LL-Null:                       -3751.6\n",
            "Covariance Type:            nonrobust   LLR p-value:                 1.054e-94\n",
            "===========================================================================================\n",
            "                              coef    std err          z      P>|z|      [0.025      0.975]\n",
            "-------------------------------------------------------------------------------------------\n",
            "Customer_Lifetime_Value -7.097e-06   2.78e-06     -2.552      0.011   -1.25e-05   -1.65e-06\n",
            "Income                   1.935e-06   6.13e-07      3.158      0.002    7.34e-07    3.14e-06\n",
            "Monthly_Premium_Auto       -0.0028      0.001     -4.469      0.000      -0.004      -0.002\n",
            "Number_of_Policies         -0.0269      0.007     -3.916      0.000      -0.040      -0.013\n",
            "Total_Claim_Amount          0.0004   8.85e-05      4.374      0.000       0.000       0.001\n",
            "Marital_Status             -0.2822      0.024    -11.680      0.000      -0.330      -0.235\n",
            "Renew_Offer_Type           -0.3432      0.021    -16.512      0.000      -0.384      -0.302\n",
            "Sales_Channel              -0.1103      0.016     -6.933      0.000      -0.142      -0.079\n",
            "Vehicle_Size               -0.1960      0.029     -6.809      0.000      -0.252      -0.140\n",
            "===========================================================================================\n",
            "                 Generalized Linear Model Regression Results                  \n",
            "==============================================================================\n",
            "Dep. Variable:           Response_bin   No. Observations:                 9134\n",
            "Model:                            GLM   Df Residuals:                     9125\n",
            "Model Family:                Binomial   Df Model:                            8\n",
            "Link Function:                cloglog   Scale:                          1.0000\n",
            "Method:                          IRLS   Log-Likelihood:                -3536.8\n",
            "Date:                Mon, 18 May 2020   Deviance:                       7073.6\n",
            "Time:                        03:37:40   Pearson chi2:                 8.88e+03\n",
            "No. Iterations:                     7                                         \n",
            "Covariance Type:            nonrobust                                         \n",
            "===========================================================================================\n",
            "                              coef    std err          z      P>|z|      [0.025      0.975]\n",
            "-------------------------------------------------------------------------------------------\n",
            "Customer_Lifetime_Value -1.007e-05   4.65e-06     -2.164      0.030   -1.92e-05   -9.48e-07\n",
            "Income                   1.722e-06   9.94e-07      1.733      0.083   -2.25e-07    3.67e-06\n",
            "Monthly_Premium_Auto       -0.0050      0.001     -4.736      0.000      -0.007      -0.003\n",
            "Number_of_Policies         -0.0505      0.012     -4.287      0.000      -0.074      -0.027\n",
            "Total_Claim_Amount          0.0006      0.000      4.253      0.000       0.000       0.001\n",
            "Marital_Status             -0.4942      0.040    -12.485      0.000      -0.572      -0.417\n",
            "Renew_Offer_Type           -0.5255      0.035    -14.993      0.000      -0.594      -0.457\n",
            "Sales_Channel              -0.2035      0.028     -7.329      0.000      -0.258      -0.149\n",
            "Vehicle_Size               -0.3493      0.047     -7.461      0.000      -0.441      -0.258\n",
            "===========================================================================================\n"
          ],
          "name": "stdout"
        }
      ]
    },
    {
      "cell_type": "code",
      "metadata": {
        "id": "Gv9Y3H_VmtWu",
        "colab_type": "code",
        "colab": {
          "base_uri": "https://localhost:8080/",
          "height": 170
        },
        "outputId": "2a80d537-0198-4f60-c379-453e0e92d59a"
      },
      "source": [
        "regression_order = [\"Continuous Only\", \"Categorical Only\", \"Together\", \"Significant Only\"]\n",
        "regression_order_counter = 0\n",
        "\n",
        "print(\"Logit\")\n",
        "logit_likelihood = [[-3875.6, 9134, 9],[-3551.6, 9134, 14],[-3519.5, 9134, 22],[-3536.8, 9134, 10]]\n",
        "for i in logit_likelihood:\n",
        "  print(regression_order[regression_order_counter])\n",
        "  regression_order_counter += 1\n",
        "  AIC_param = []\n",
        "  for j in i:\n",
        "    AIC_param.append(j)\n",
        "  #change to \"sm.tools.eval_measures.bic\" for BIC\n",
        "  print(sm.tools.eval_measures.bic(AIC_param[0],AIC_param[1],AIC_param[2]))\n"
      ],
      "execution_count": 114,
      "outputs": [
        {
          "output_type": "stream",
          "text": [
            "Logit\n",
            "Continuous Only\n",
            "7833.277830943704\n",
            "Categorical Only\n",
            "7230.876625912429\n",
            "Together\n",
            "7239.634697862389\n",
            "Significant Only\n",
            "7164.79758993745\n"
          ],
          "name": "stdout"
        }
      ]
    },
    {
      "cell_type": "markdown",
      "metadata": {
        "id": "6g8skl0B07RG",
        "colab_type": "text"
      },
      "source": [
        "#Classification"
      ]
    },
    {
      "cell_type": "code",
      "metadata": {
        "id": "oNIuAcDR14C8",
        "colab_type": "code",
        "outputId": "81807ce3-6c0b-4681-d5b9-2c3803363619",
        "colab": {
          "base_uri": "https://localhost:8080/",
          "height": 136
        }
      },
      "source": [
        "all_data_df.columns"
      ],
      "execution_count": 30,
      "outputs": [
        {
          "output_type": "execute_result",
          "data": {
            "text/plain": [
              "Index(['Customer Lifetime Value', 'Income', 'Monthly Premium Auto',\n",
              "       'Months Since Last Claim', 'Months Since Policy Inception',\n",
              "       'Number of Open Complaints', 'Number of Policies', 'Total Claim Amount',\n",
              "       'Response_bin', 'State', 'Coverage', 'Education', 'EmploymentStatus',\n",
              "       'Gender', 'Location Code', 'Marital Status', 'Policy Type', 'Policy',\n",
              "       'Renew Offer Type', 'Sales Channel', 'Vehicle Class', 'Vehicle Size'],\n",
              "      dtype='object')"
            ]
          },
          "metadata": {
            "tags": []
          },
          "execution_count": 30
        }
      ]
    },
    {
      "cell_type": "markdown",
      "metadata": {
        "id": "bOfIo9lr6TrE",
        "colab_type": "text"
      },
      "source": [
        "##**Classification**"
      ]
    },
    {
      "cell_type": "code",
      "metadata": {
        "id": "T_IVb_wWz11X",
        "colab_type": "code",
        "colab": {}
      },
      "source": [
        "y = all_data_df['Response_bin']\n",
        "#Using significant variables\n",
        "X = all_data_df[['Customer_Lifetime_Value','Income','Monthly_Premium_Auto',\n",
        "                    'Number_of_Policies','Total_Claim_Amount','Marital_Status',\n",
        "                    'Renew_Offer_Type','Sales_Channel','Vehicle_Size']]"
      ],
      "execution_count": 0,
      "outputs": []
    },
    {
      "cell_type": "code",
      "metadata": {
        "id": "Wwet3ogi1Efg",
        "colab_type": "code",
        "outputId": "24355b82-d51c-430d-e550-792292819b2d",
        "colab": {
          "base_uri": "https://localhost:8080/",
          "height": 285
        }
      },
      "source": [
        "from sklearn.model_selection import train_test_split, cross_validate\n",
        "X_train,  X_test, y_train, y_test = train_test_split(X,y, test_size = 0.2, random_state = 42)\n",
        "ax = sns.countplot(y_test)\n",
        "annot_plot_num(ax,0.08,1)"
      ],
      "execution_count": 100,
      "outputs": [
        {
          "output_type": "display_data",
          "data": {
            "image/png": "[encoded data removed]",
            "text/plain": [
              "<Figure size 432x288 with 1 Axes>"
            ]
          },
          "metadata": {
            "tags": [],
            "needs_background": "light"
          }
        }
      ]
    },
    {
      "cell_type": "markdown",
      "metadata": {
        "id": "sv2-24u55KFT",
        "colab_type": "text"
      },
      "source": [
        "##SVC"
      ]
    },
    {
      "cell_type": "code",
      "metadata": {
        "id": "6oVoqMT41ILK",
        "colab_type": "code",
        "outputId": "f961d010-8050-44e4-ce15-7de6786b43f1",
        "colab": {
          "base_uri": "https://localhost:8080/",
          "height": 238
        }
      },
      "source": [
        "from sklearn.metrics import confusion_matrix, accuracy_score, classification_report\n",
        "from sklearn.svm import SVC\n",
        "\n",
        "svc = SVC()\n",
        "svc.fit(X_train, y_train)\n",
        "svc_pred = svc.predict(X_test)\n",
        "\n",
        "print(confusion_matrix(svc_pred,y_test))\n",
        "print('accuracy_score:',accuracy_score(svc_pred, y_test))\n",
        "print(classification_report(svc_pred, y_test))\n",
        "\n",
        "cross_val_score_svc = cross_validate(svc, X_train, y_train,cv = 5)\n",
        "# print('Cross validation train_score',cross_val_score_svc['train_score'].mean())\n",
        "print('Cross validation test_score',cross_val_score_svc['test_score'].mean())"
      ],
      "execution_count": 101,
      "outputs": [
        {
          "output_type": "stream",
          "text": [
            "[[1561  266]\n",
            " [   0    0]]\n",
            "accuracy_score: 0.8544061302681992\n",
            "              precision    recall  f1-score   support\n",
            "\n",
            "           0       1.00      0.85      0.92      1827\n",
            "           1       0.00      0.00      0.00         0\n",
            "\n",
            "    accuracy                           0.85      1827\n",
            "   macro avg       0.50      0.43      0.46      1827\n",
            "weighted avg       1.00      0.85      0.92      1827\n",
            "\n",
            "Cross validation test_score 0.8573971128970188\n"
          ],
          "name": "stdout"
        }
      ]
    },
    {
      "cell_type": "markdown",
      "metadata": {
        "id": "mAqIUXMQ5NIY",
        "colab_type": "text"
      },
      "source": [
        "##Random Forest"
      ]
    },
    {
      "cell_type": "code",
      "metadata": {
        "id": "3nZf2f5P1RKE",
        "colab_type": "code",
        "outputId": "2264cfae-419a-4e18-e6b4-074016e15151",
        "colab": {
          "base_uri": "https://localhost:8080/",
          "height": 238
        }
      },
      "source": [
        "from sklearn.ensemble import RandomForestClassifier\n",
        "rfc = RandomForestClassifier()\n",
        "rfc.fit(X_train, y_train)\n",
        "rfc_pred = rfc.predict(X_test)\n",
        "cfm = confusion_matrix(rfc_pred,y_test)\n",
        "print(cfm)\n",
        "print('Accuracy score:',accuracy_score(rfc_pred, y_test))\n",
        "print(classification_report(rfc_pred, y_test))\n",
        "\n",
        "cross_val_score_rfc = cross_validate(rfc, X_train, y_train,cv = 5)\n",
        "\n",
        "# print('Cross validation train_score',cross_val_score_rfc['train_score'].mean())\n",
        "print('Cross validation test_score',cross_val_score_rfc['test_score'].mean())"
      ],
      "execution_count": 102,
      "outputs": [
        {
          "output_type": "stream",
          "text": [
            "[[1555    0]\n",
            " [   6  266]]\n",
            "Accuracy score: 0.9967159277504105\n",
            "              precision    recall  f1-score   support\n",
            "\n",
            "           0       1.00      1.00      1.00      1555\n",
            "           1       1.00      0.98      0.99       272\n",
            "\n",
            "    accuracy                           1.00      1827\n",
            "   macro avg       1.00      0.99      0.99      1827\n",
            "weighted avg       1.00      1.00      1.00      1827\n",
            "\n",
            "Cross validation test_score 0.9960313335973805\n"
          ],
          "name": "stdout"
        }
      ]
    },
    {
      "cell_type": "code",
      "metadata": {
        "id": "Cgw_moJToPe7",
        "colab_type": "code",
        "outputId": "23189775-42d6-41fc-935b-a187b8869c5d",
        "colab": {
          "base_uri": "https://localhost:8080/",
          "height": 285
        }
      },
      "source": [
        "group_names = [\"True Neg\", \"False Pos\", \"False Neg\", \"True Pos\"]\n",
        "group_counts = [\"{0:0.0f}\".format(value) for value in\n",
        "                cfm.flatten()]\n",
        "group_percentages = [\"{0:.2%}\".format(value) for value in\n",
        "                     cfm.flatten()/np.sum(cfm)]\n",
        "labels = [f\"{v1}\\n{v2}\\n{v3}\" for v1, v2, v3 in\n",
        "          zip(group_names,group_counts,group_percentages)]\n",
        "labels = np.asarray(labels).reshape(2,2)\n",
        "sns.heatmap(cfm, annot=labels, fmt='', cmap='Blues')"
      ],
      "execution_count": 103,
      "outputs": [
        {
          "output_type": "execute_result",
          "data": {
            "text/plain": [
              "<matplotlib.axes._subplots.AxesSubplot at 0x7f8c028eee10>"
            ]
          },
          "metadata": {
            "tags": []
          },
          "execution_count": 103
        },
        {
          "output_type": "display_data",
          "data": {
            "image/png": "[encoded data removed]",
            "text/plain": [
              "<Figure size 432x288 with 2 Axes>"
            ]
          },
          "metadata": {
            "tags": [],
            "needs_background": "light"
          }
        }
      ]
    },
    {
      "cell_type": "markdown",
      "metadata": {
        "id": "J-JdX4pR5cH0",
        "colab_type": "text"
      },
      "source": [
        "##**Feature Importance**"
      ]
    },
    {
      "cell_type": "code",
      "metadata": {
        "id": "YPAim3rZ5RJP",
        "colab_type": "code",
        "outputId": "bd32bd50-0045-4fd1-d5f6-0ba51d1a5d4e",
        "colab": {
          "base_uri": "https://localhost:8080/",
          "height": 448
        }
      },
      "source": [
        "feature_imp = rfc.feature_importances_.round(3)\n",
        "ser_rank = pd.Series(feature_imp, index=X.columns).sort_values(ascending = False)\n",
        "\n",
        "plt.figure(figsize=(12,7))\n",
        "sns.barplot(x= ser_rank.values, y = ser_rank.index, palette='GnBu_d')\n",
        "plt.xlabel('relative importance')\n",
        "plt.show()"
      ],
      "execution_count": 109,
      "outputs": [
        {
          "output_type": "display_data",
          "data": {
            "image/png": "[encoded data removed]",
            "text/plain": [
              "<Figure size 864x504 with 1 Axes>"
            ]
          },
          "metadata": {
            "tags": [],
            "needs_background": "light"
          }
        }
      ]
    },
    {
      "cell_type": "code",
      "metadata": {
        "id": "eYGwXUFmvFZR",
        "colab_type": "code",
        "colab": {
          "base_uri": "https://localhost:8080/",
          "height": 578
        },
        "outputId": "a458890c-edae-4af3-be09-0d03cba3a96a"
      },
      "source": [
        "pip install rfpimp"
      ],
      "execution_count": 37,
      "outputs": [
        {
          "output_type": "stream",
          "text": [
            "Collecting rfpimp\n",
            "  Downloading https://files.pythonhosted.org/packages/36/05/ce8f1d3a035a4ddda3c888af945908e9f61cbec32f73148fc8e788a8632a/rfpimp-1.3.5.tar.gz\n",
            "Collecting stratx>=0.2\n",
            "\u001b[?25l  Downloading https://files.pythonhosted.org/packages/ba/b6/988b51f5d6467caca2c9a1024157490ac379adca49fbc3056491a0b1f954/stratx-0.3.tar.gz (148kB)\n",
            "\u001b[K     |████████████████████████████████| 153kB 4.1MB/s \n",
            "\u001b[?25hRequirement already satisfied: numpy in /usr/local/lib/python3.6/dist-packages (from rfpimp) (1.18.4)\n",
            "Requirement already satisfied: pandas in /usr/local/lib/python3.6/dist-packages (from rfpimp) (1.0.3)\n",
            "Requirement already satisfied: scikit-learn in /usr/local/lib/python3.6/dist-packages (from rfpimp) (0.22.2.post1)\n",
            "Requirement already satisfied: matplotlib in /usr/local/lib/python3.6/dist-packages (from rfpimp) (3.2.1)\n",
            "Requirement already satisfied: sklearn in /usr/local/lib/python3.6/dist-packages (from stratx>=0.2->rfpimp) (0.0)\n",
            "Requirement already satisfied: scipy in /usr/local/lib/python3.6/dist-packages (from stratx>=0.2->rfpimp) (1.4.1)\n",
            "Requirement already satisfied: numba in /usr/local/lib/python3.6/dist-packages (from stratx>=0.2->rfpimp) (0.48.0)\n",
            "Collecting colour\n",
            "  Downloading https://files.pythonhosted.org/packages/74/46/e81907704ab203206769dee1385dc77e1407576ff8f50a0681d0a6b541be/colour-0.1.5-py2.py3-none-any.whl\n",
            "Requirement already satisfied: python-dateutil>=2.6.1 in /usr/local/lib/python3.6/dist-packages (from pandas->rfpimp) (2.8.1)\n",
            "Requirement already satisfied: pytz>=2017.2 in /usr/local/lib/python3.6/dist-packages (from pandas->rfpimp) (2018.9)\n",
            "Requirement already satisfied: joblib>=0.11 in /usr/local/lib/python3.6/dist-packages (from scikit-learn->rfpimp) (0.14.1)\n",
            "Requirement already satisfied: kiwisolver>=1.0.1 in /usr/local/lib/python3.6/dist-packages (from matplotlib->rfpimp) (1.2.0)\n",
            "Requirement already satisfied: pyparsing!=2.0.4,!=2.1.2,!=2.1.6,>=2.0.1 in /usr/local/lib/python3.6/dist-packages (from matplotlib->rfpimp) (2.4.7)\n",
            "Requirement already satisfied: cycler>=0.10 in /usr/local/lib/python3.6/dist-packages (from matplotlib->rfpimp) (0.10.0)\n",
            "Requirement already satisfied: setuptools in /usr/local/lib/python3.6/dist-packages (from numba->stratx>=0.2->rfpimp) (46.3.0)\n",
            "Requirement already satisfied: llvmlite<0.32.0,>=0.31.0dev0 in /usr/local/lib/python3.6/dist-packages (from numba->stratx>=0.2->rfpimp) (0.31.0)\n",
            "Requirement already satisfied: six>=1.5 in /usr/local/lib/python3.6/dist-packages (from python-dateutil>=2.6.1->pandas->rfpimp) (1.12.0)\n",
            "Building wheels for collected packages: rfpimp, stratx\n",
            "  Building wheel for rfpimp (setup.py) ... \u001b[?25l\u001b[?25hdone\n",
            "  Created wheel for rfpimp: filename=rfpimp-1.3.5-cp36-none-any.whl size=10260 sha256=86cde665e9dd04ed7b8bf4dcb4df05a1c5e4c23f235abaa21ecdf101a43dece2\n",
            "  Stored in directory: /root/.cache/pip/wheels/2a/c8/bf/80f91224be00870f84a85aa1782cf6cd62c1289a173b66b8e9\n",
            "  Building wheel for stratx (setup.py) ... \u001b[?25l\u001b[?25hdone\n",
            "  Created wheel for stratx: filename=stratx-0.3-cp36-none-any.whl size=22699 sha256=6b82e41378ebb6f9859828c8c2f92e6b484c11c8a864608df71c51aa1c0a43dc\n",
            "  Stored in directory: /root/.cache/pip/wheels/91/3b/c3/9dcafed446985efb9008de84b720ddf003ac963e6807e8ad15\n",
            "Successfully built rfpimp stratx\n",
            "Installing collected packages: colour, stratx, rfpimp\n",
            "Successfully installed colour-0.1.5 rfpimp-1.3.5 stratx-0.3\n"
          ],
          "name": "stdout"
        }
      ]
    },
    {
      "cell_type": "code",
      "metadata": {
        "id": "_oYHe1PRvIlO",
        "colab_type": "code",
        "colab": {
          "base_uri": "https://localhost:8080/",
          "height": 394
        },
        "outputId": "3fa41f63-8b52-4d75-9cc9-6b642782bf84"
      },
      "source": [
        "from rfpimp import *\n",
        "from rfpimp import *\n",
        "import pandas as pd\n",
        "from sklearn.ensemble import RandomForestRegressor\n",
        "from sklearn.model_selection import train_test_split\n",
        "\n",
        "\n",
        "df = all_data_df\n",
        "\n",
        "df_train, df_test = train_test_split(df, test_size=0.20)\n",
        "\n",
        "features = ['State','Customer Lifetime Value','Response_bin','Coverage','Education','EmploymentStatus','Gender','Income','Location Code','Marital Status','Monthly Premium Auto','Months Since Last Claim','Months Since Policy Inception','Number of Open Complaints','Number of Policies','Policy Type','Policy','Renew Offer Type','Sales Channel','Total Claim Amount','Vehicle Class','Vehicle Size',\n",
        "            'Response_bin']\n",
        "df_train = df_train[features]\n",
        "df_test = df_test[features]\n",
        "\n",
        "X_train, y_train = df_train.drop('Response_bin',axis=1), df_train['Response_bin']\n",
        "X_test, y_test = df_test.drop('Response_bin',axis=1), df_test['Response_bin']\n",
        "X_train['random'] = np.random.random(size=len(X_train))\n",
        "X_test['random'] = np.random.random(size=len(X_test))\n",
        "\n",
        "rf = RandomForestRegressor(n_estimators=100, n_jobs=-1)\n",
        "rf.fit(X_train, y_train)\n",
        "\n",
        "imp = importances(rf, X_test, y_test) # permutation\n",
        "viz = plot_importances(imp)\n",
        "viz.view()"
      ],
      "execution_count": 110,
      "outputs": [
        {
          "output_type": "error",
          "ename": "KeyError",
          "evalue": "ignored",
          "traceback": [
            "\u001b[0;31m---------------------------------------------------------------------------\u001b[0m",
            "\u001b[0;31mKeyError\u001b[0m                                  Traceback (most recent call last)",
            "\u001b[0;32m<ipython-input-110-29af3860b106>\u001b[0m in \u001b[0;36m<module>\u001b[0;34m()\u001b[0m\n\u001b[1;32m     12\u001b[0m features = ['State','Customer Lifetime Value','Response_bin','Coverage','Education','EmploymentStatus','Gender','Income','Location Code','Marital Status','Monthly Premium Auto','Months Since Last Claim','Months Since Policy Inception','Number of Open Complaints','Number of Policies','Policy Type','Policy','Renew Offer Type','Sales Channel','Total Claim Amount','Vehicle Class','Vehicle Size',\n\u001b[1;32m     13\u001b[0m             'Response_bin']\n\u001b[0;32m---> 14\u001b[0;31m \u001b[0mdf_train\u001b[0m \u001b[0;34m=\u001b[0m \u001b[0mdf_train\u001b[0m\u001b[0;34m[\u001b[0m\u001b[0mfeatures\u001b[0m\u001b[0;34m]\u001b[0m\u001b[0;34m\u001b[0m\u001b[0;34m\u001b[0m\u001b[0m\n\u001b[0m\u001b[1;32m     15\u001b[0m \u001b[0mdf_test\u001b[0m \u001b[0;34m=\u001b[0m \u001b[0mdf_test\u001b[0m\u001b[0;34m[\u001b[0m\u001b[0mfeatures\u001b[0m\u001b[0;34m]\u001b[0m\u001b[0;34m\u001b[0m\u001b[0;34m\u001b[0m\u001b[0m\n\u001b[1;32m     16\u001b[0m \u001b[0;34m\u001b[0m\u001b[0m\n",
            "\u001b[0;32m/usr/local/lib/python3.6/dist-packages/pandas/core/frame.py\u001b[0m in \u001b[0;36m__getitem__\u001b[0;34m(self, key)\u001b[0m\n\u001b[1;32m   2804\u001b[0m             \u001b[0;32mif\u001b[0m \u001b[0mis_iterator\u001b[0m\u001b[0;34m(\u001b[0m\u001b[0mkey\u001b[0m\u001b[0;34m)\u001b[0m\u001b[0;34m:\u001b[0m\u001b[0;34m\u001b[0m\u001b[0;34m\u001b[0m\u001b[0m\n\u001b[1;32m   2805\u001b[0m                 \u001b[0mkey\u001b[0m \u001b[0;34m=\u001b[0m \u001b[0mlist\u001b[0m\u001b[0;34m(\u001b[0m\u001b[0mkey\u001b[0m\u001b[0;34m)\u001b[0m\u001b[0;34m\u001b[0m\u001b[0;34m\u001b[0m\u001b[0m\n\u001b[0;32m-> 2806\u001b[0;31m             \u001b[0mindexer\u001b[0m \u001b[0;34m=\u001b[0m \u001b[0mself\u001b[0m\u001b[0;34m.\u001b[0m\u001b[0mloc\u001b[0m\u001b[0;34m.\u001b[0m\u001b[0m_get_listlike_indexer\u001b[0m\u001b[0;34m(\u001b[0m\u001b[0mkey\u001b[0m\u001b[0;34m,\u001b[0m \u001b[0maxis\u001b[0m\u001b[0;34m=\u001b[0m\u001b[0;36m1\u001b[0m\u001b[0;34m,\u001b[0m \u001b[0mraise_missing\u001b[0m\u001b[0;34m=\u001b[0m\u001b[0;32mTrue\u001b[0m\u001b[0;34m)\u001b[0m\u001b[0;34m[\u001b[0m\u001b[0;36m1\u001b[0m\u001b[0;34m]\u001b[0m\u001b[0;34m\u001b[0m\u001b[0;34m\u001b[0m\u001b[0m\n\u001b[0m\u001b[1;32m   2807\u001b[0m \u001b[0;34m\u001b[0m\u001b[0m\n\u001b[1;32m   2808\u001b[0m         \u001b[0;31m# take() does not accept boolean indexers\u001b[0m\u001b[0;34m\u001b[0m\u001b[0;34m\u001b[0m\u001b[0;34m\u001b[0m\u001b[0m\n",
            "\u001b[0;32m/usr/local/lib/python3.6/dist-packages/pandas/core/indexing.py\u001b[0m in \u001b[0;36m_get_listlike_indexer\u001b[0;34m(self, key, axis, raise_missing)\u001b[0m\n\u001b[1;32m   1551\u001b[0m \u001b[0;34m\u001b[0m\u001b[0m\n\u001b[1;32m   1552\u001b[0m         self._validate_read_indexer(\n\u001b[0;32m-> 1553\u001b[0;31m             \u001b[0mkeyarr\u001b[0m\u001b[0;34m,\u001b[0m \u001b[0mindexer\u001b[0m\u001b[0;34m,\u001b[0m \u001b[0mo\u001b[0m\u001b[0;34m.\u001b[0m\u001b[0m_get_axis_number\u001b[0m\u001b[0;34m(\u001b[0m\u001b[0maxis\u001b[0m\u001b[0;34m)\u001b[0m\u001b[0;34m,\u001b[0m \u001b[0mraise_missing\u001b[0m\u001b[0;34m=\u001b[0m\u001b[0mraise_missing\u001b[0m\u001b[0;34m\u001b[0m\u001b[0;34m\u001b[0m\u001b[0m\n\u001b[0m\u001b[1;32m   1554\u001b[0m         )\n\u001b[1;32m   1555\u001b[0m         \u001b[0;32mreturn\u001b[0m \u001b[0mkeyarr\u001b[0m\u001b[0;34m,\u001b[0m \u001b[0mindexer\u001b[0m\u001b[0;34m\u001b[0m\u001b[0;34m\u001b[0m\u001b[0m\n",
            "\u001b[0;32m/usr/local/lib/python3.6/dist-packages/pandas/core/indexing.py\u001b[0m in \u001b[0;36m_validate_read_indexer\u001b[0;34m(self, key, indexer, axis, raise_missing)\u001b[0m\n\u001b[1;32m   1644\u001b[0m             \u001b[0;32mif\u001b[0m \u001b[0;32mnot\u001b[0m \u001b[0;34m(\u001b[0m\u001b[0mself\u001b[0m\u001b[0;34m.\u001b[0m\u001b[0mname\u001b[0m \u001b[0;34m==\u001b[0m \u001b[0;34m\"loc\"\u001b[0m \u001b[0;32mand\u001b[0m \u001b[0;32mnot\u001b[0m \u001b[0mraise_missing\u001b[0m\u001b[0;34m)\u001b[0m\u001b[0;34m:\u001b[0m\u001b[0;34m\u001b[0m\u001b[0;34m\u001b[0m\u001b[0m\n\u001b[1;32m   1645\u001b[0m                 \u001b[0mnot_found\u001b[0m \u001b[0;34m=\u001b[0m \u001b[0mlist\u001b[0m\u001b[0;34m(\u001b[0m\u001b[0mset\u001b[0m\u001b[0;34m(\u001b[0m\u001b[0mkey\u001b[0m\u001b[0;34m)\u001b[0m \u001b[0;34m-\u001b[0m \u001b[0mset\u001b[0m\u001b[0;34m(\u001b[0m\u001b[0max\u001b[0m\u001b[0;34m)\u001b[0m\u001b[0;34m)\u001b[0m\u001b[0;34m\u001b[0m\u001b[0;34m\u001b[0m\u001b[0m\n\u001b[0;32m-> 1646\u001b[0;31m                 \u001b[0;32mraise\u001b[0m \u001b[0mKeyError\u001b[0m\u001b[0;34m(\u001b[0m\u001b[0;34mf\"{not_found} not in index\"\u001b[0m\u001b[0;34m)\u001b[0m\u001b[0;34m\u001b[0m\u001b[0;34m\u001b[0m\u001b[0m\n\u001b[0m\u001b[1;32m   1647\u001b[0m \u001b[0;34m\u001b[0m\u001b[0m\n\u001b[1;32m   1648\u001b[0m             \u001b[0;31m# we skip the warning on Categorical/Interval\u001b[0m\u001b[0;34m\u001b[0m\u001b[0;34m\u001b[0m\u001b[0;34m\u001b[0m\u001b[0m\n",
            "\u001b[0;31mKeyError\u001b[0m: \"['Total Claim Amount', 'Sales Channel', 'Number of Policies', 'Policy Type', 'Marital Status', 'Months Since Policy Inception', 'Vehicle Size', 'Location Code', 'Number of Open Complaints', 'Vehicle Class', 'Months Since Last Claim', 'Customer Lifetime Value', 'Renew Offer Type', 'Monthly Premium Auto'] not in index\""
          ]
        }
      ]
    },
    {
      "cell_type": "code",
      "metadata": {
        "id": "e8767oXEbmry",
        "colab_type": "code",
        "colab": {}
      },
      "source": [
        ""
      ],
      "execution_count": 0,
      "outputs": []
    }
  ]
}